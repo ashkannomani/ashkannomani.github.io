{
  "nbformat": 4,
  "nbformat_minor": 0,
  "metadata": {
    "colab": {
      "provenance": [],
      "toc_visible": true,
      "authorship_tag": "ABX9TyOUaxZkj4SYEkOgxNX+HJlY",
      "include_colab_link": true
    },
    "kernelspec": {
      "name": "python3",
      "display_name": "Python 3"
    },
    "language_info": {
      "name": "python"
    }
  },
  "cells": [
    {
      "cell_type": "markdown",
      "metadata": {
        "id": "view-in-github",
        "colab_type": "text"
      },
      "source": [
        "<a href=\"https://colab.research.google.com/github/ashkannomani/ashkannomani.github.io/blob/master/firstGISMA.ipynb\" target=\"_parent\"><img src=\"https://colab.research.google.com/assets/colab-badge.svg\" alt=\"Open In Colab\"/></a>"
      ]
    },
    {
      "cell_type": "code",
      "execution_count": 19,
      "metadata": {
        "colab": {
          "base_uri": "https://localhost:8080/"
        },
        "id": "Hq577IDEJ5R-",
        "outputId": "2dcbb1d9-9c67-4360-904c-783492e6080e"
      },
      "outputs": [
        {
          "output_type": "stream",
          "name": "stdout",
          "text": [
            "4.6995251806100224\n"
          ]
        }
      ],
      "source": [
        "\n",
        "import numpy as np\n",
        "import math \n",
        "x=np.e\n",
        "x**=3\n",
        "x= 2+abs(-x)\n",
        "x**=0.5\n",
        "print(x)"
      ]
    }
  ]
}